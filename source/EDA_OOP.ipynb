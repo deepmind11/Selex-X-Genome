{
 "cells": [
  {
   "cell_type": "code",
   "execution_count": null,
   "metadata": {},
   "outputs": [],
   "source": [
    "import sys\n",
    "from pathlib import Path\n",
    "\n",
    "sys.path.append(\"/burg/hblab/users/hg2604/Projects/OOP/Selex-X-Genome/source\")\n",
    "import subprocess\n",
    "from base import DiskFile, ENCODE_Object, Experiment\n",
    "from disk_files import PE_Fastq, SE_Fastq\n",
    "from experiment import Control, TFChipSeq\n",
    "from files import PE_File, SE_File\n",
    "from library import Library\n",
    "from search import EncodeSearch\n",
    "from slurmjob import Slurmjob\n",
    "from countTables import CountTable\n",
    "from motif import Mononucleotide\n",
    "\n",
    "Human_MYC = EncodeSearch(\"MYC\", \"Homo+sapiens\", limit=\"1\")\n",
    "Human_MYC.search()\n",
    "\n",
    "# print(Human_MYC.search_result)\n",
    "Experiments = Human_MYC.get_experiments()\n",
    "\n"
   ]
  },
  {
   "cell_type": "code",
   "execution_count": null,
   "metadata": {},
   "outputs": [],
   "source": [
    "for experiment in Experiments:\n",
    "    # Fetch experiment data\n",
    "    experiment.fetchData()\n",
    "    libraries = experiment.get_libraries()\n",
    "\n",
    "    for library in libraries:\n",
    "        files = library.get_Files()\n",
    "\n",
    "        for file in files:\n",
    "            fq = file.download(Path(f'/burg/hblab/users/hg2604/Projects/OOP/Selex-X-Genome/data/{experiment.accession}/{library.accession}'))\n",
    "            sub_fq = fq.subsample()\n",
    "            fq.delete()\n",
    "            sub_fq.transform(Path(\"/burg/hblab/users/hg2604/Projects/OOP/Selex-X-Genome/source/se_processing_template.sh\"))"
   ]
  },
  {
   "cell_type": "code",
   "execution_count": 2,
   "metadata": {},
   "outputs": [],
   "source": [
    "fastq =files[0].download(Path(f'/burg/hblab/users/hg2604/Projects/OOP/Selex-X-Genome/data/{experiment.accession}/{library.accession}'))\n",
    "sub_fq = fastq.subsample()\n"
   ]
  },
  {
   "cell_type": "code",
   "execution_count": 3,
   "metadata": {},
   "outputs": [
    {
     "name": "stderr",
     "output_type": "stream",
     "text": [
      "samtools: /burg/hblab/users/hg2604/conda/envs/Selex-X-Genome/bin/../lib/libtinfow.so.6: no version information available (required by samtools)\n",
      "samtools: /burg/hblab/users/hg2604/conda/envs/Selex-X-Genome/bin/../lib/libncursesw.so.6: no version information available (required by samtools)\n",
      "samtools: /burg/hblab/users/hg2604/conda/envs/Selex-X-Genome/bin/../lib/libncursesw.so.6: no version information available (required by samtools)\n",
      "(ERR): bowtie2-align died with signal 9 (KILL) \n",
      "[E::sam_parse1] SEQ and QUAL are of different length\n",
      "[W::sam_read1_sam] Parse error at line 103202\n",
      "samtools view: error reading file \"-\"\n",
      "samtools: /burg/hblab/users/hg2604/conda/envs/Selex-X-Genome/bin/../lib/libtinfow.so.6: no version information available (required by samtools)\n",
      "samtools: /burg/hblab/users/hg2604/conda/envs/Selex-X-Genome/bin/../lib/libncursesw.so.6: no version information available (required by samtools)\n",
      "samtools: /burg/hblab/users/hg2604/conda/envs/Selex-X-Genome/bin/../lib/libncursesw.so.6: no version information available (required by samtools)\n",
      "Feature (chrM:16277-16577) beyond the length of chrM size (16569 bp).  Skipping.\n",
      "Feature (chrM:16293-16593) beyond the length of chrM size (16569 bp).  Skipping.\n",
      "Feature (chrM:16306-16606) beyond the length of chrM size (16569 bp).  Skipping.\n",
      "Feature (chrM:16382-16682) beyond the length of chrM size (16569 bp).  Skipping.\n",
      "Feature (chrM:16364-16664) beyond the length of chrM size (16569 bp).  Skipping.\n",
      "Feature (chrUn_KI270438v1:112251-112551) beyond the length of chrUn_KI270438v1 size (112505 bp).  Skipping.\n",
      "Feature (chrUn_KI270438v1:112276-112576) beyond the length of chrUn_KI270438v1 size (112505 bp).  Skipping.\n"
     ]
    }
   ],
   "source": [
    "fastq.delete()\n",
    "sub_fq.transform(Path(\"/burg/hblab/users/hg2604/Projects/OOP/Selex-X-Genome/source/se_processing_template.sh\"))"
   ]
  },
  {
   "cell_type": "code",
   "execution_count": 2,
   "metadata": {},
   "outputs": [],
   "source": [
    "sfq = SE_Fastq(Path(\"/burg/hblab/users/hg2604/Projects/OOP/Selex-X-Genome/data/Control/ENCSR000DOL/ENCLB119JWA/ENCFF000ZHZ_subsampled.fq\"))\n",
    "\n",
    "#sfq.slurm_transform()"
   ]
  },
  {
   "cell_type": "markdown",
   "metadata": {},
   "source": [
    "# Is the scoreing happening properly"
   ]
  },
  {
   "cell_type": "code",
   "execution_count": null,
   "metadata": {},
   "outputs": [],
   "source": [
    "from parse_motifcentral_json import MOTIFCENTRAL\n",
    "\n",
    "max_motif = Mononucleotide.create_from_motif_central(MOTIFCENTRAL[12])"
   ]
  }
 ],
 "metadata": {
  "kernelspec": {
   "display_name": "Selex-X-Genome",
   "language": "python",
   "name": "python3"
  },
  "language_info": {
   "codemirror_mode": {
    "name": "ipython",
    "version": 3
   },
   "file_extension": ".py",
   "mimetype": "text/x-python",
   "name": "python",
   "nbconvert_exporter": "python",
   "pygments_lexer": "ipython3",
   "version": "3.12.2"
  }
 },
 "nbformat": 4,
 "nbformat_minor": 2
}
