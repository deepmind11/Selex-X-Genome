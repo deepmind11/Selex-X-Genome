{
 "cells": [
  {
   "cell_type": "code",
   "execution_count": 2,
   "metadata": {},
   "outputs": [],
   "source": [
    "import sys\n",
    "sys.path.insert(0, '../scripts')\n",
    "from parse_motifcentral_json import MOTIFCENTRAL "
   ]
  },
  {
   "cell_type": "code",
   "execution_count": 10,
   "metadata": {},
   "outputs": [
    {
     "data": {
      "text/plain": [
       "dict_keys(['modelSettings', 'coefficients', 'metadata'])"
      ]
     },
     "execution_count": 10,
     "metadata": {},
     "output_type": "execute_result"
    }
   ],
   "source": [
    "# MOTIFCENTRAL is a list of JSON objects. Each JSON object corresponds to a single motif.\n",
    "MOTIFCENTRAL[0].keys()\n"
   ]
  },
  {
   "cell_type": "code",
   "execution_count": 12,
   "metadata": {},
   "outputs": [
    {
     "name": "stdout",
     "output_type": "stream",
     "text": [
      "MOTIFCENTRAL[0]['modelSettings'].keys() = dict_keys(['letterOrder', 'bindingModes', 'letterComplement'])\n",
      "MOTIFCENTRAL[0]['coefficients'].keys() = dict_keys(['bindingModes'])\n",
      "MOTIFCENTRAL[0]['metadata'].keys() = dict_keys(['fit_id', 'factors', 'experiments'])\n"
     ]
    }
   ],
   "source": [
    "print(f\"{MOTIFCENTRAL[0]['modelSettings'].keys() = }\") \n",
    "print(f\"{MOTIFCENTRAL[0]['coefficients'].keys() = }\") \n",
    "print(f\"{MOTIFCENTRAL[0]['metadata'].keys() = }\") "
   ]
  },
  {
   "cell_type": "markdown",
   "metadata": {},
   "source": [
    "1. What are all the metadata.factors.gene_symbol in MOTIFCENTRAL?"
   ]
  },
  {
   "cell_type": "code",
   "execution_count": 28,
   "metadata": {},
   "outputs": [
    {
     "name": "stdout",
     "output_type": "stream",
     "text": [
      "MOTIFCENTRAL[0]['metadata']['factors'][0].keys() = dict_keys(['gene_symbol', 'gene_name', 'tax_id', 'annotation'])\n"
     ]
    }
   ],
   "source": [
    "print(f\"{MOTIFCENTRAL[0]['metadata']['factors'][0].keys() = }\") # tax_id gives information about the organism. 10090 = Musmusculus "
   ]
  },
  {
   "cell_type": "code",
   "execution_count": 29,
   "metadata": {},
   "outputs": [
    {
     "data": {
      "text/plain": [
       "[{'gene_symbol': 'Tfe3',\n",
       "  'gene_name': 'transcription factor E3',\n",
       "  'tax_id': 10090,\n",
       "  'annotation': [['ENSEMBL_GENE', 'ENSMUSG00000000134'],\n",
       "   ['ENTREZ', '209446'],\n",
       "   ['MGI', '98511'],\n",
       "   ['PFAM', 'PF00010'],\n",
       "   ['PFAM', 'PF11851'],\n",
       "   ['PFAM', 'PF15951'],\n",
       "   ['SWISS_PROT', 'Q64092']]}]"
      ]
     },
     "execution_count": 29,
     "metadata": {},
     "output_type": "execute_result"
    }
   ],
   "source": [
    "MOTIFCENTRAL[0]['metadata']['factors']"
   ]
  },
  {
   "cell_type": "code",
   "execution_count": 32,
   "metadata": {},
   "outputs": [],
   "source": [
    "gene_set = {(lambda fit: fit['metadata']['factors'][0]['gene_symbol'])(fit) for fit in MOTIFCENTRAL}\n",
    "gene_list = list([(lambda fit: fit['metadata']['factors'][0]['gene_symbol'])(fit) for fit in MOTIFCENTRAL])"
   ]
  },
  {
   "cell_type": "code",
   "execution_count": 33,
   "metadata": {},
   "outputs": [
    {
     "name": "stdout",
     "output_type": "stream",
     "text": [
      "Lenght of MOTIFCENTRAL = 874 \n",
      " Lenght of gene_set = 824 \n",
      " Lenght of gene_list = 874 \n",
      "\n"
     ]
    }
   ],
   "source": [
    "print(f\"Lenght of MOTIFCENTRAL = {len(MOTIFCENTRAL)} \\n Lenght of gene_set = {len(gene_set)} \\n Lenght of gene_list = {len(gene_list)} \\n\") "
   ]
  },
  {
   "cell_type": "markdown",
   "metadata": {},
   "source": [
    "So we have repeats. Perhaps the same TF in different organisms? TF + Organism should be a unique identifier. The ENTREZ ID Accounts for this.\n",
    "So how do I find ChIP datasets for a given ENTREZ ID? I need to use the metadata to find my relevant genomic assay."
   ]
  },
  {
   "cell_type": "markdown",
   "metadata": {},
   "source": [
    "2. What is the range of number of binding modes? MOTIFCENTRAL[0]['modelSettings']['bindingModes'] or MOTIFCENTRAL[0]['coefficients']['bindingModes']"
   ]
  },
  {
   "cell_type": "code",
   "execution_count": 34,
   "metadata": {},
   "outputs": [
    {
     "data": {
      "text/plain": [
       "[{'fitLogActivity': True,\n",
       "  'flankLength': 0,\n",
       "  'singleStrand': False,\n",
       "  'size': 12,\n",
       "  'dinucleotideDistance': 0,\n",
       "  'componentName': 'Binding mode 1',\n",
       "  'positionBias': False,\n",
       "  'modifications': []}]"
      ]
     },
     "execution_count": 34,
     "metadata": {},
     "output_type": "execute_result"
    }
   ],
   "source": [
    "MOTIFCENTRAL[0]['modelSettings']['bindingModes']\n"
   ]
  },
  {
   "cell_type": "code",
   "execution_count": 37,
   "metadata": {},
   "outputs": [
    {
     "data": {
      "text/plain": [
       "{1}"
      ]
     },
     "execution_count": 37,
     "metadata": {},
     "output_type": "execute_result"
    }
   ],
   "source": [
    "number_of_BM_range = {(lambda fit: len(fit['coefficients']['bindingModes']))(fit) for fit in MOTIFCENTRAL}\n",
    "number_of_BM_range\n"
   ]
  },
  {
   "cell_type": "markdown",
   "metadata": {},
   "source": [
    "Okay so we always have one BM. That makes things easier."
   ]
  },
  {
   "cell_type": "code",
   "execution_count": 42,
   "metadata": {},
   "outputs": [
    {
     "data": {
      "text/plain": [
       "dict_keys(['mononucleotide', 'activity', 'dinucleotide', 'positionBias', 'modifications'])"
      ]
     },
     "execution_count": 42,
     "metadata": {},
     "output_type": "execute_result"
    }
   ],
   "source": [
    "MOTIFCENTRAL[0]['coefficients']['bindingModes'][0].keys()"
   ]
  }
 ],
 "metadata": {
  "kernelspec": {
   "display_name": "SelexXGenome",
   "language": "python",
   "name": "python3"
  },
  "language_info": {
   "codemirror_mode": {
    "name": "ipython",
    "version": 3
   },
   "file_extension": ".py",
   "mimetype": "text/x-python",
   "name": "python",
   "nbconvert_exporter": "python",
   "pygments_lexer": "ipython3",
   "version": "3.12.2"
  }
 },
 "nbformat": 4,
 "nbformat_minor": 2
}
