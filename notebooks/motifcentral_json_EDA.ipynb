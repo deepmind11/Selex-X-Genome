{
 "cells": [
  {
   "cell_type": "code",
   "execution_count": 3,
   "metadata": {},
   "outputs": [],
   "source": [
    "import sys\n",
    "sys.path.insert(0, '/burg/hblab/users/hg2604/Projects/Selex_X_Genome/scripts')\n",
    "from parse_motifcentral_json import MOTIFCENTRAL "
   ]
  },
  {
   "cell_type": "code",
   "execution_count": 6,
   "metadata": {},
   "outputs": [
    {
     "data": {
      "text/plain": [
       "dict_keys(['modelSettings', 'coefficients', 'metadata'])"
      ]
     },
     "execution_count": 6,
     "metadata": {},
     "output_type": "execute_result"
    }
   ],
   "source": [
    "# MOTIFCENTRAL is a list of JSON objects. Each JSON object corresponds to a single motif.\n",
    "MOTIFCENTRAL[0]\n"
   ]
  },
  {
   "cell_type": "code",
   "execution_count": 9,
   "metadata": {},
   "outputs": [
    {
     "data": {
      "text/plain": [
       "{'letterOrder': 'ACGT',\n",
       " 'bindingModes': [{'fitLogActivity': True,\n",
       "   'flankLength': 0,\n",
       "   'singleStrand': False,\n",
       "   'size': 12,\n",
       "   'dinucleotideDistance': 0,\n",
       "   'componentName': 'Binding mode 1',\n",
       "   'positionBias': False,\n",
       "   'modifications': []}],\n",
       " 'letterComplement': 'C-G,A-T'}"
      ]
     },
     "execution_count": 9,
     "metadata": {},
     "output_type": "execute_result"
    }
   ],
   "source": [
    "MOTIFCENTRAL[0]['modelSettings'] "
   ]
  },
  {
   "cell_type": "code",
   "execution_count": null,
   "metadata": {},
   "outputs": [],
   "source": [
    "MOTIFCENTRAL[0]['coefficients']['bindingModes']  # List of binding modes fit to an experiment"
   ]
  },
  {
   "cell_type": "code",
   "execution_count": 16,
   "metadata": {},
   "outputs": [
    {
     "data": {
      "text/plain": [
       "1"
      ]
     },
     "execution_count": 16,
     "metadata": {},
     "output_type": "execute_result"
    }
   ],
   "source": [
    "len(MOTIFCENTRAL[0]['coefficients']['bindingModes'])"
   ]
  },
  {
   "cell_type": "code",
   "execution_count": 18,
   "metadata": {},
   "outputs": [
    {
     "data": {
      "text/plain": [
       "dict_keys(['mononucleotide', 'activity', 'dinucleotide', 'positionBias', 'modifications'])"
      ]
     },
     "execution_count": 18,
     "metadata": {},
     "output_type": "execute_result"
    }
   ],
   "source": [
    "MOTIFCENTRAL[0]['coefficients']['bindingModes'][0].keys()"
   ]
  },
  {
   "cell_type": "code",
   "execution_count": 26,
   "metadata": {},
   "outputs": [
    {
     "data": {
      "text/plain": [
       "[-0.021149277379063136,\n",
       " -0.29650566484723484,\n",
       " 0,\n",
       " -0.15711447637966103,\n",
       " -0.15059044429471768,\n",
       " -0.7097440179672816,\n",
       " 0,\n",
       " -0.40857968097581576,\n",
       " -0.39110897459993765,\n",
       " -2.0889344326278803,\n",
       " 0,\n",
       " -2.655015858709927,\n",
       " -2.9884769720629727,\n",
       " -2.4628947898253664,\n",
       " -2.237664556208653,\n",
       " 0,\n",
       " -5.315908182560314,\n",
       " 0,\n",
       " -5.476742305090323,\n",
       " -5.947622539961063,\n",
       " 0,\n",
       " -3.8666344168939766,\n",
       " -4.490071841612913,\n",
       " -3.6795361372751927,\n",
       " -5.05043783692896,\n",
       " 0,\n",
       " -3.053265185660482,\n",
       " -1.933908571871246,\n",
       " -2.032721047414352,\n",
       " -3.2650605843879994,\n",
       " 0,\n",
       " -5.123451166831984,\n",
       " -1.212232750108413,\n",
       " -1.6334842868484785,\n",
       " -2.2190249761198473,\n",
       " 0,\n",
       " -5.484222829475819,\n",
       " -4.790194070201455,\n",
       " 0,\n",
       " -3.6188465758338424,\n",
       " 0,\n",
       " -0.7199378673195866,\n",
       " -0.2593847753681384,\n",
       " -0.7176682693863778,\n",
       " -0.9702250248223461,\n",
       " -0.2941006299827045,\n",
       " -0.7546996767952994,\n",
       " 0]"
      ]
     },
     "execution_count": 26,
     "metadata": {},
     "output_type": "execute_result"
    }
   ],
   "source": [
    "# This has the deltadeltaGs (betas) 'ACGT', to get affinity you need to sum and exponentiate\n",
    "MOTIFCENTRAL[0]['coefficients']['bindingModes'][0]['mononucleotide'] "
   ]
  },
  {
   "cell_type": "code",
   "execution_count": 25,
   "metadata": {},
   "outputs": [
    {
     "data": {
      "text/plain": [
       "[]"
      ]
     },
     "execution_count": 25,
     "metadata": {},
     "output_type": "execute_result"
    }
   ],
   "source": [
    "MOTIFCENTRAL[0]['coefficients']['bindingModes'][0]['modifications']"
   ]
  },
  {
   "cell_type": "code",
   "execution_count": 32,
   "metadata": {},
   "outputs": [
    {
     "data": {
      "text/plain": [
       "array([[-0.02114928, -0.15059044, -0.39110897, -2.98847697, -5.31590818,\n",
       "         0.        , -5.05043784, -2.03272105, -1.21223275, -5.48422283,\n",
       "         0.        , -0.97022502],\n",
       "       [-0.29650566, -0.70974402, -2.08893443, -2.46289479,  0.        ,\n",
       "        -3.86663442,  0.        , -3.26506058, -1.63348429, -4.79019407,\n",
       "        -0.71993787, -0.29410063],\n",
       "       [ 0.        ,  0.        ,  0.        , -2.23766456, -5.47674231,\n",
       "        -4.49007184, -3.05326519,  0.        , -2.21902498,  0.        ,\n",
       "        -0.25938478, -0.75469968],\n",
       "       [-0.15711448, -0.40857968, -2.65501586,  0.        , -5.94762254,\n",
       "        -3.67953614, -1.93390857, -5.12345117,  0.        , -3.61884658,\n",
       "        -0.71766827,  0.        ]])"
      ]
     },
     "execution_count": 32,
     "metadata": {},
     "output_type": "execute_result"
    }
   ],
   "source": [
    "import numpy as np \n",
    "numpy_motif = np.array(MOTIFCENTRAL[0]['coefficients']['bindingModes'][0]['mononucleotide']).reshape(4, 12,order='F')\n"
   ]
  },
  {
   "cell_type": "code",
   "execution_count": 33,
   "metadata": {},
   "outputs": [],
   "source": [
    "import numpy as np\n",
    "\n",
    "def seq_to_numpy(seq):\n",
    "    \"\"\"Encodes a DNA sequence into a numpy array of shape len(seq) x 4\n",
    "\n",
    "    Args:\n",
    "        seq (String): The DNA Sequence \"ACGT\"\n",
    "    Returns:\n",
    "        numpy array of shape len(seq) x 4, encoding the DNA sequence\n",
    "    \"\"\"\n",
    "    numpy_seq = np.zeros((len(seq), 4))\n",
    "    \n",
    "    for i in range(0, len(seq)):\n",
    "        match seq[i]:\n",
    "            case 'A':\n",
    "                numpy_seq[i, 0] = 1\n",
    "            case 'C':\n",
    "                numpy_seq[i, 1] = 1\n",
    "            case 'G':\n",
    "                numpy_seq[i, 2] = 1\n",
    "            case 'T':\n",
    "                numpy_seq[i, 3] = 1\n",
    "    \n",
    "    return numpy_seq\n",
    "\n",
    "def score_window(numpy_motif, seq):\n",
    "    \"\"\"Scores a window the size of motif \n",
    "\n",
    "    Args:\n",
    "        numpy_motif (numpy array of shape len(seq) x 4): The motif\n",
    "        seq (String): The DNA Sequence \"ACGT\" szie of the motif\n",
    "    Returns:\n",
    "        score (float): The score of the window\n",
    "    \"\"\"\n",
    "    score = 0\n",
    "    for i, base in enumerate(seq):\n",
    "        match base:\n",
    "            case 'A':\n",
    "                score += numpy_motif[0, i]\n",
    "            case 'C':\n",
    "                score += numpy_motif[1, i]\n",
    "            case 'G':\n",
    "                score += numpy_motif[2, i]\n",
    "            case 'T':\n",
    "                score += numpy_motif[3, i]\n",
    "    \n",
    "    return score\n",
    "\n",
    "def score_seq_against_motif(seq, motif):\n",
    "    \"\"\"\n",
    "    Given a sequence and a motif, scores the sequence against the motif.\n",
    "\n",
    "    arguments:\n",
    "        1. seq (str): sequence to score (ACGT)\n",
    "        2. motif (list): A list of deldelGs. Lenght = Size of motif * 4. Order = ACGT\n",
    "    returns:\n",
    "        1. score (float): the score of the sequence against the motif in log space.\n",
    "    \"\"\"\n",
    "    \n",
    "\n",
    "    motif_size = int(len(motif)/4)\n",
    "    numpy_motif = np.array(motif).reshape(4, motif_size, order='F')\n",
    "\n",
    "    score = 0\n",
    "    for i in range(0, len(seq)-2):\n",
    "        score += score_window(numpy_motif, seq[i:i+motif_size])\n",
    "    \n",
    "    return score\n",
    "\n",
    "\n",
    "    \n",
    "    "
   ]
  },
  {
   "cell_type": "code",
   "execution_count": 35,
   "metadata": {},
   "outputs": [],
   "source": [
    "score = score_seq_against_motif(\"ATGCTTTCGACG\", MOTIFCENTRAL[0]['coefficients']['bindingModes'][0]['mononucleotide'])"
   ]
  },
  {
   "cell_type": "code",
   "execution_count": 36,
   "metadata": {},
   "outputs": [
    {
     "data": {
      "text/plain": [
       "array([[ -5.50537211,  -5.02119802,  -2.57356675, -10.51693646],\n",
       "       [ -5.08669974,  -6.44789324,  -4.01651935,  -4.57637843],\n",
       "       [  0.        ,  -2.49704933,  -2.97372465, -13.02007933],\n",
       "       [ -3.77596105,  -5.84111944,  -2.65501586, -11.96964693]])"
      ]
     },
     "execution_count": 36,
     "metadata": {},
     "output_type": "execute_result"
    }
   ],
   "source": [
    "score"
   ]
  }
 ],
 "metadata": {
  "kernelspec": {
   "display_name": "SelexXGenome",
   "language": "python",
   "name": "python3"
  },
  "language_info": {
   "codemirror_mode": {
    "name": "ipython",
    "version": 3
   },
   "file_extension": ".py",
   "mimetype": "text/x-python",
   "name": "python",
   "nbconvert_exporter": "python",
   "pygments_lexer": "ipython3",
   "version": "3.12.2"
  }
 },
 "nbformat": 4,
 "nbformat_minor": 2
}
