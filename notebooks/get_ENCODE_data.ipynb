{
 "cells": [
  {
   "cell_type": "markdown",
   "metadata": {},
   "source": [
    "# GET"
   ]
  },
  {
   "cell_type": "markdown",
   "metadata": {},
   "source": [
    "# Programmatic search\n",
    "## Search URL format"
   ]
  },
  {
   "cell_type": "code",
   "execution_count": null,
   "metadata": {},
   "outputs": [],
   "source": [
    "import requests, json\n",
    "\n",
    "organism=\"Mus+musculus\"\n",
    "tf=\"CTCF\"\n",
    "limit=\"2\"\n",
    "\n",
    "# Force return from the server in JSON format\n",
    "headers = {'accept': 'application/json'}\n",
    "\n",
    "# This searches the ENCODE database for the phrase \"bone chip\"\n",
    "url = (\n",
    "        f\"https://www.encodeproject.org/search/?type=Experiment&assay_title=TF+ChIP-seq\"\n",
    "        f\"&target.label={tf}&replicates.library.biosample.donor.organism.scientific_name={organism}&status=released&limit={limit}\"\n",
    "    )\n",
    "\n",
    "# GET the search result\n",
    "response = requests.get(url, headers=headers)\n",
    "\n",
    "# Extract the JSON response as a python dictionary\n",
    "search_results = response.json()\n",
    "\n",
    "# Print the object\n",
    "print(json.dumps(search_results, indent=4))"
   ]
  },
  {
   "cell_type": "markdown",
   "metadata": {},
   "source": [
    "# Exploring the @graphs attribute. It contains all the search results."
   ]
  },
  {
   "cell_type": "code",
   "execution_count": 6,
   "metadata": {},
   "outputs": [
    {
     "data": {
      "text/plain": [
       "16"
      ]
     },
     "execution_count": 6,
     "metadata": {},
     "output_type": "execute_result"
    }
   ],
   "source": [
    "len(search_results['@graph'][0].keys())  # They all seems to be of this lenght"
   ]
  },
  {
   "cell_type": "code",
   "execution_count": 10,
   "metadata": {},
   "outputs": [],
   "source": [
    "type_held_by_each_key = lambda key: (key ,type(search_results['@graph'][0][key]))"
   ]
  },
  {
   "cell_type": "code",
   "execution_count": 11,
   "metadata": {},
   "outputs": [
    {
     "data": {
      "text/plain": [
       "[('@id', str),\n",
       " ('@type', list),\n",
       " ('accession', str),\n",
       " ('assay_term_name', str),\n",
       " ('assay_title', str),\n",
       " ('audit', dict),\n",
       " ('award', dict),\n",
       " ('biosample_ontology', dict),\n",
       " ('biosample_summary', str),\n",
       " ('dbxrefs', list),\n",
       " ('files', list),\n",
       " ('lab', dict),\n",
       " ('related_series', list),\n",
       " ('replicates', list),\n",
       " ('status', str),\n",
       " ('target', dict)]"
      ]
     },
     "execution_count": 11,
     "metadata": {},
     "output_type": "execute_result"
    }
   ],
   "source": [
    "list([type_held_by_each_key(key) for key in search_results['@graph'][0].keys()])"
   ]
  },
  {
   "cell_type": "code",
   "execution_count": 56,
   "metadata": {},
   "outputs": [
    {
     "data": {
      "text/plain": [
       "'ENCSR877MSN'"
      ]
     },
     "execution_count": 56,
     "metadata": {},
     "output_type": "execute_result"
    }
   ],
   "source": [
    "search_results['@graph'][1]['@id']\n",
    "search_results['@graph'][0]['accession']   # Both of these identify the Experiment Accesion. I can find the files on this page. Included in Class"
   ]
  },
  {
   "cell_type": "code",
   "execution_count": 22,
   "metadata": {},
   "outputs": [
    {
     "data": {
      "text/plain": [
       "['Experiment', 'Dataset', 'Item']"
      ]
     },
     "execution_count": 22,
     "metadata": {},
     "output_type": "execute_result"
    }
   ],
   "source": [
    "search_results['@graph'][1]['@type'] # Not sure what this means"
   ]
  },
  {
   "cell_type": "code",
   "execution_count": 23,
   "metadata": {},
   "outputs": [
    {
     "data": {
      "text/plain": [
       "'ChIP-seq'"
      ]
     },
     "execution_count": 23,
     "metadata": {},
     "output_type": "execute_result"
    }
   ],
   "source": [
    "search_results['@graph'][1]['assay_term_name'] # Included in class"
   ]
  },
  {
   "cell_type": "code",
   "execution_count": 24,
   "metadata": {},
   "outputs": [
    {
     "data": {
      "text/plain": [
       "'TF ChIP-seq'"
      ]
     },
     "execution_count": 24,
     "metadata": {},
     "output_type": "execute_result"
    }
   ],
   "source": [
    "search_results['@graph'][1]['assay_title'] # Can be used for vetoing the results. Not Histone. Included in class"
   ]
  },
  {
   "cell_type": "code",
   "execution_count": null,
   "metadata": {},
   "outputs": [],
   "source": [
    "search_results['@graph'][1]['audit'] # Ignoring this for now."
   ]
  },
  {
   "cell_type": "code",
   "execution_count": 31,
   "metadata": {},
   "outputs": [
    {
     "data": {
      "text/plain": [
       "{'term_name': 'left cerebral cortex', 'classification': 'tissue'}"
      ]
     },
     "execution_count": 31,
     "metadata": {},
     "output_type": "execute_result"
    }
   ],
   "source": [
    "search_results['@graph'][1]['biosample_ontology']  # Useful Information. Will be attribute of my class."
   ]
  },
  {
   "cell_type": "code",
   "execution_count": 30,
   "metadata": {},
   "outputs": [
    {
     "data": {
      "text/plain": [
       "'Mus musculus strain B6CASTF1/J left cerebral cortex tissue female adult (2 months)'"
      ]
     },
     "execution_count": 30,
     "metadata": {},
     "output_type": "execute_result"
    }
   ],
   "source": [
    "search_results['@graph'][1]['biosample_summary'] # Useful Information. Will be attribute of my class."
   ]
  },
  {
   "cell_type": "code",
   "execution_count": 34,
   "metadata": {},
   "outputs": [
    {
     "data": {
      "text/plain": [
       "['GEO:GSE231067']"
      ]
     },
     "execution_count": 34,
     "metadata": {},
     "output_type": "execute_result"
    }
   ],
   "source": [
    "search_results[\"@graph\"][1]['dbxrefs']   # Useful for cross referencing. Will be attribute of my class."
   ]
  },
  {
   "cell_type": "code",
   "execution_count": null,
   "metadata": {},
   "outputs": [],
   "source": [
    "search_results[\"@graph\"][1]['files'] # Not useful as I don't know the types. I will have to go with the experiment accession"
   ]
  },
  {
   "cell_type": "code",
   "execution_count": 36,
   "metadata": {},
   "outputs": [
    {
     "data": {
      "text/plain": [
       "{'title': 'Bradley Bernstein, Broad'}"
      ]
     },
     "execution_count": 36,
     "metadata": {},
     "output_type": "execute_result"
    }
   ],
   "source": [
    "search_results[\"@graph\"][1]['lab']  # Let's keep this info. Will be useful to test inter-protocol and intra-protocol variation."
   ]
  },
  {
   "cell_type": "code",
   "execution_count": 44,
   "metadata": {},
   "outputs": [
    {
     "data": {
      "text/plain": [
       "'ENCSR346QNS'"
      ]
     },
     "execution_count": 44,
     "metadata": {},
     "output_type": "execute_result"
    }
   ],
   "source": [
    "len(search_results['@graph'][0]['related_series'])   # Series information is useful. Store it. Helps me club related experiments together.\n",
    "search_results['@graph'][1]['related_series'][0]['accession']  # Will be helpful in complex hypothesis testing"
   ]
  },
  {
   "cell_type": "code",
   "execution_count": null,
   "metadata": {},
   "outputs": [],
   "source": [
    "len(search_results['@graph'][0]['replicates'])\n",
    "search_results['@graph'][0]['replicates']  # Okay this is important info to acess technical variation and biological variation. \n",
    "#Notice that each biologoical replicate has its own biosample id...which makes sense. Technical replicates are more like repeating the experiment \n",
    "#on the same source sample.\n",
    "\n",
    "# This also has information about the antibodies. So now you can compare antibody strenght!!"
   ]
  },
  {
   "cell_type": "code",
   "execution_count": 57,
   "metadata": {},
   "outputs": [
    {
     "data": {
      "text/plain": [
       "'released'"
      ]
     },
     "execution_count": 57,
     "metadata": {},
     "output_type": "execute_result"
    }
   ],
   "source": [
    "search_results['@graph'][0]['status'] #I can use this to veto"
   ]
  },
  {
   "cell_type": "code",
   "execution_count": 58,
   "metadata": {},
   "outputs": [
    {
     "data": {
      "text/plain": [
       "{'genes': [{'symbol': 'Ctcf'}], 'label': 'CTCF', '@id': '/targets/CTCF-mouse/'}"
      ]
     },
     "execution_count": 58,
     "metadata": {},
     "output_type": "execute_result"
    }
   ],
   "source": [
    "search_results['@graph'][0]['target']  #What's the difference between symbol and label? Is label all caps? Let's go with that for now."
   ]
  }
 ],
 "metadata": {
  "kernelspec": {
   "display_name": "Selex-X-Genome",
   "language": "python",
   "name": "python3"
  },
  "language_info": {
   "codemirror_mode": {
    "name": "ipython",
    "version": 3
   },
   "file_extension": ".py",
   "mimetype": "text/x-python",
   "name": "python",
   "nbconvert_exporter": "python",
   "pygments_lexer": "ipython3",
   "version": "3.12.2"
  }
 },
 "nbformat": 4,
 "nbformat_minor": 2
}
