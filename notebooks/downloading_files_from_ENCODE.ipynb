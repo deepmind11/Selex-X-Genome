{
 "cells": [
  {
   "cell_type": "code",
   "execution_count": 3,
   "metadata": {},
   "outputs": [],
   "source": [
    "import sys\n",
    "sys.path.insert(0, '../scripts')\n",
    "\n",
    "import requests, json"
   ]
  },
  {
   "cell_type": "code",
   "execution_count": 5,
   "metadata": {},
   "outputs": [],
   "source": [
    "experiment_json = r\"/Users/hgz/Documents/researchHBLab/Projects/Selex-X-Genome/data/CTCF_Mus_musculus/experiments/ENCSR644VYX/experiment_data.json\"\n",
    "\n",
    "with open(experiment_json, \"r\") as f:\n",
    "    expr_data = json.load(f)\n",
    "\n",
    "\n",
    "libraries = list(\n",
    "    [\n",
    "        expr_data[\"replicates\"][i][\"library\"][\"accession\"]\n",
    "        for i in range(len(expr_data[\"replicates\"]))\n",
    "    ]\n",
    ")\n",
    "  "
   ]
  },
  {
   "cell_type": "code",
   "execution_count": 13,
   "metadata": {},
   "outputs": [
    {
     "data": {
      "text/plain": [
       "52"
      ]
     },
     "execution_count": 13,
     "metadata": {},
     "output_type": "execute_result"
    }
   ],
   "source": [
    "len(expr_data['files'])"
   ]
  },
  {
   "cell_type": "code",
   "execution_count": 12,
   "metadata": {},
   "outputs": [
    {
     "name": "stdout",
     "output_type": "stream",
     "text": [
      "0\n",
      "1\n",
      "2\n",
      "3\n",
      "4\n",
      "5\n",
      "6\n",
      "7\n",
      "8\n"
     ]
    },
    {
     "ename": "KeyError",
     "evalue": "'replicate'",
     "output_type": "error",
     "traceback": [
      "\u001b[0;31m---------------------------------------------------------------------------\u001b[0m",
      "\u001b[0;31mKeyError\u001b[0m                                  Traceback (most recent call last)",
      "Cell \u001b[0;32mIn[12], line 3\u001b[0m\n\u001b[1;32m      1\u001b[0m \u001b[38;5;28;01mfor\u001b[39;00m i \u001b[38;5;129;01min\u001b[39;00m \u001b[38;5;28mrange\u001b[39m(\u001b[38;5;28mlen\u001b[39m(expr_data[\u001b[38;5;124m'\u001b[39m\u001b[38;5;124mfiles\u001b[39m\u001b[38;5;124m'\u001b[39m])):\n\u001b[1;32m      2\u001b[0m     \u001b[38;5;28mprint\u001b[39m(i)\n\u001b[0;32m----> 3\u001b[0m     expr_data[\u001b[38;5;124m'\u001b[39m\u001b[38;5;124mfiles\u001b[39m\u001b[38;5;124m'\u001b[39m][i][\u001b[38;5;124m'\u001b[39m\u001b[38;5;124mreplicate\u001b[39m\u001b[38;5;124m'\u001b[39m][\u001b[38;5;124m'\u001b[39m\u001b[38;5;124mlibrary\u001b[39m\u001b[38;5;124m'\u001b[39m]\n",
      "\u001b[0;31mKeyError\u001b[0m: 'replicate'"
     ]
    }
   ],
   "source": [
    "for i in range(len(expr_data['files'])):\n",
    "    print(i)\n",
    "    expr_data['files'][i]['replicate']['library'] "
   ]
  },
  {
   "cell_type": "code",
   "execution_count": 16,
   "metadata": {},
   "outputs": [
    {
     "data": {
      "text/plain": [
       "'ENCFF535UOC'"
      ]
     },
     "execution_count": 16,
     "metadata": {},
     "output_type": "execute_result"
    }
   ],
   "source": [
    "expr_data['files'][1]['accession']"
   ]
  },
  {
   "cell_type": "code",
   "execution_count": 6,
   "metadata": {},
   "outputs": [
    {
     "data": {
      "text/plain": [
       "['ENCLB890UNK', 'ENCLB361HMF', 'ENCLB763PGY', 'ENCLB180ZFG']"
      ]
     },
     "execution_count": 6,
     "metadata": {},
     "output_type": "execute_result"
    }
   ],
   "source": [
    "libraries"
   ]
  },
  {
   "cell_type": "code",
   "execution_count": 25,
   "metadata": {},
   "outputs": [],
   "source": [
    "#Gather fastq files for each library\n",
    "library_fastq_files = dict(zip(libraries,[[] for i in range(len(libraries))]))\n",
    "\n",
    "for file in  expr_data['files']:\n",
    "    if 'replicate' in file.keys():\n",
    "        if file['file_format']=='fastq':\n",
    "            \n",
    "            library_fastq_files[file['replicate']['library'][11:-1]].append(file['accession'])\n",
    "\n",
    " "
   ]
  },
  {
   "cell_type": "code",
   "execution_count": 26,
   "metadata": {},
   "outputs": [
    {
     "data": {
      "text/plain": [
       "{'ENCLB890UNK': ['ENCFF643CVF', 'ENCFF535UOC', 'ENCFF829MXI', 'ENCFF883KUX'],\n",
       " 'ENCLB361HMF': ['ENCFF996QKU', 'ENCFF682VLO', 'ENCFF419QCZ', 'ENCFF471OHR'],\n",
       " 'ENCLB763PGY': ['ENCFF100KLF', 'ENCFF348KQU', 'ENCFF180EXI', 'ENCFF750LUO'],\n",
       " 'ENCLB180ZFG': ['ENCFF778GNB', 'ENCFF854EUU', 'ENCFF385FZD', 'ENCFF950YVY']}"
      ]
     },
     "execution_count": 26,
     "metadata": {},
     "output_type": "execute_result"
    }
   ],
   "source": [
    "library_fastq_files # Now I have all fastq files belonging to a library, I need to download one file randomly if SE. For PE I need to identify a pair."
   ]
  },
  {
   "cell_type": "code",
   "execution_count": null,
   "metadata": {},
   "outputs": [],
   "source": [
    "# Download the files\n",
    "for library in library_fastq_files.keys():\n",
    "    file_to_download = random.choice(library_fastq_files[library])\n",
    "    download_url = \"https://www.encodeproject.org\" + file_to_download['s3_uri']\n",
    "    filename = f'{file_to_download['accession']}.fastq'\n",
    "    filepath = Path(experiment_json).parent / Path(library) /Path(filename)\n",
    "    filepath.parent.mkdir(parents=True, exist_ok=True)\n",
    "\n",
    "    urlretrieve(download_url, filepath)"
   ]
  }
 ],
 "metadata": {
  "kernelspec": {
   "display_name": "Selex-X-Genome",
   "language": "python",
   "name": "python3"
  },
  "language_info": {
   "codemirror_mode": {
    "name": "ipython",
    "version": 3
   },
   "file_extension": ".py",
   "mimetype": "text/x-python",
   "name": "python",
   "nbconvert_exporter": "python",
   "pygments_lexer": "ipython3",
   "version": "3.12.2"
  }
 },
 "nbformat": 4,
 "nbformat_minor": 2
}
